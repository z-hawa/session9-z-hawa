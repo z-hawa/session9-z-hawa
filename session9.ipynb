{
  "nbformat": 4,
  "nbformat_minor": 0,
  "metadata": {
    "colab": {
      "name": "Untitled2.ipynb",
      "provenance": [],
      "collapsed_sections": []
    },
    "kernelspec": {
      "name": "python3",
      "display_name": "Python 3"
    },
    "language_info": {
      "name": "python"
    }
  },
  "cells": [
    {
      "cell_type": "code",
      "metadata": {
        "colab": {
          "base_uri": "https://localhost:8080/"
        },
        "id": "NVF4zMp9ttNe",
        "outputId": "a5cbf682-b601-4d63-9873-f84354101f10"
      },
      "source": [
        "!pip install Faker"
      ],
      "execution_count": 6,
      "outputs": [
        {
          "output_type": "stream",
          "text": [
            "Requirement already satisfied: Faker in /usr/local/lib/python3.7/dist-packages (8.10.0)\n",
            "Requirement already satisfied: python-dateutil>=2.4 in /usr/local/lib/python3.7/dist-packages (from Faker) (2.8.1)\n",
            "Requirement already satisfied: text-unidecode==1.3 in /usr/local/lib/python3.7/dist-packages (from Faker) (1.3)\n",
            "Requirement already satisfied: six>=1.5 in /usr/local/lib/python3.7/dist-packages (from python-dateutil>=2.4->Faker) (1.15.0)\n"
          ],
          "name": "stdout"
        }
      ]
    },
    {
      "cell_type": "code",
      "metadata": {
        "colab": {
          "base_uri": "https://localhost:8080/"
        },
        "id": "8NJsTfSergOs",
        "outputId": "c36c155f-82b4-4b2e-caaf-95ca3ab5e988"
      },
      "source": [
        "from time import perf_counter\n",
        "from typing import NamedTuple, Tuple, Type\n",
        "from faker import Faker\n",
        "from collections import namedtuple,Counter\n",
        "import random\n",
        "import re\n",
        "\n",
        "from datetime import date\n",
        "from dateutil.relativedelta import relativedelta\n",
        "from faker import Faker\n",
        "\n",
        "\n",
        "fake=Faker()\n",
        "\n",
        "\n",
        "def generate_10000_profiles(*args,**kwargs):#->Tuple(tuple,int):\n",
        "    '''Generates 10000 profiles and stores the important values in a namedtuple'''\n",
        "    if args or kwargs:\n",
        "        raise TypeError(\"This generator doesn't need any arguments!\")\n",
        "    ages,blood_type,location=[],[],0\n",
        "    NamedTupWithImpData=namedtuple('FakeData',fake.profile().keys())\n",
        "    NamedTupWithImpData.__doc__=\"Named Tuple class that creates a FakeData instance that makes it easier to store the fake data\"\n",
        "    time=0\n",
        "    flag=True\n",
        "    for _ in range(10000):\n",
        "        start=perf_counter()\n",
        "        data=(fake.profile())\n",
        "        data=NamedTupWithImpData(**data)\n",
        "        location+=sum(data.current_location)\n",
        "        age=relativedelta(date.today(),data.birthdate).years\n",
        "        ages.append(age)\n",
        "        if flag:\n",
        "            flag=False\n",
        "            highestage=age\n",
        "        else:\n",
        "            if age>highestage:highestage=age\n",
        "        blood_type.append(data.blood_group)\n",
        "        end=perf_counter()\n",
        "        time+=(end-start)\n",
        "    start=perf_counter()\n",
        "    RequiredInfoNT=namedtuple('ImpInfo','most_frequent_blood_type highest_age avg_age location_mean')\n",
        "    RequiredInfoNT.__doc__=\"Named Tuple class that creates an instance of a tuple that will store all the values to return\"\n",
        "    time=perf_counter()-start\n",
        "    TuplewithAllInfo=RequiredInfoNT(max(set(blood_type),key=blood_type.count),max(ages),sum(ages)/10000,location.__float__()/10000)\n",
        "    return TuplewithAllInfo,time/10000\n",
        "def generate_10000_profiles_but_its_dict(*args,**kwargs):\n",
        "    '''Creates fake profile data 10000 times and stores it in a dictionary'''\n",
        "    if args or kwargs:\n",
        "        raise TypeError(\"No arguments are required!\")\n",
        "    listofdata,ages,blood_type,location=[],[],[],[]\n",
        "    RequiredInfoDict={}\n",
        "    flag=True\n",
        "    time=0\n",
        "    for _ in range(10000):\n",
        "        start=perf_counter()\n",
        "        data=fake.profile()\n",
        "        location=data[\"current_location\"]\n",
        "        today=data[\"birthdate\"]\n",
        "        blood_group=data[\"blood_group\"]\n",
        "        location=sum(data[\"current_location\"])\n",
        "        age=relativedelta(date.today(),today).years\n",
        "        if flag:\n",
        "            flag=False\n",
        "            highestage=age\n",
        "        else:\n",
        "            if age>highestage:highestage=age\n",
        "        ages.append(age)\n",
        "        blood_type.append(blood_group)\n",
        "        end=perf_counter()\n",
        "        time+=(end-start)\n",
        "    start=perf_counter()\n",
        "    RequiredInfoDict.update({'most_frequent_blood_type':max(set(blood_type),key=blood_type.count)})\n",
        "    RequiredInfoDict.update({'highest_age':highestage})\n",
        "    RequiredInfoDict.update({'avg_age':sum(ages)/10000})\n",
        "    RequiredInfoDict.update({'location_mean':location/10000})\n",
        "    time=perf_counter()-start\n",
        "    return RequiredInfoDict,time/10000\n",
        "\n",
        "\n",
        "\n",
        "def create_100_companies():\n",
        "    '''Creates fake stock profiles for 100 companies'''\n",
        "    stock=namedtuple('CompanyStock','name symbol open high low close')\n",
        "    stock.__doc__=\"named tuple for storing all the stock values etc.\"\n",
        "    symbols=[]\n",
        "    returnnamedtuples=[]\n",
        "    hundredcompanynames=[]\n",
        "    for _ in range(100):\n",
        "        companyname=fake.company()\n",
        "        while True:\n",
        "            if companyname not in hundredcompanynames:\n",
        "                hundredcompanynames.append(companyname)\n",
        "                break\n",
        "            else:\n",
        "                companyname=fake.company()\n",
        "        hundredcompanynames.append(companyname)\n",
        "        symbol=\"\".join(random.choices(companyname,k=3)).upper()\n",
        "        notallowedchars='[@_!#$%^&*()<>?/\\|}{~:] -'\n",
        "        while True:\n",
        "            if symbol not in symbols and not any(c in notallowedchars for c in symbol):\n",
        "                  symbols.append(symbol)\n",
        "                  break\n",
        "            else:\n",
        "                symbol=\"\".join(random.choices(companyname,k=3)).upper()\n",
        "        openvalue=random.uniform(30,500)\n",
        "        upsanddowns=[]\n",
        "        for _ in range(random.randint(10,15)):\n",
        "            upsanddowns.append(openvalue*random.uniform(0.7,1.2))\n",
        "        low=min(upsanddowns)\n",
        "        high=max(upsanddowns)\n",
        "        close=upsanddowns[-1]\n",
        "        returntup=stock(companyname,symbol,openvalue,high,low,close)\n",
        "        returnnamedtuples.append(returntup)\n",
        "    return returnnamedtuples\n",
        "\n",
        "print(create_100_companies())\n",
        "print(generate_10000_profiles()[0])\n",
        "print(generate_10000_profiles_but_its_dict()[0])\n"
      ],
      "execution_count": 7,
      "outputs": [
        {
          "output_type": "stream",
          "text": [
            "[CompanyStock(name='Tucker-Flores', symbol='RCE', open=207.4180103507336, high=245.46274325122928, low=148.619157372003, close=156.9346314319754), CompanyStock(name='Young-Marshall', symbol='LHS', open=476.350547053862, high=569.574455535025, low=333.78620942657125, close=560.4016511219023), CompanyStock(name='Nelson, Nichols and Ford', symbol='SOO', open=384.6240162046856, high=439.7710342820738, low=276.20072253035755, close=311.1195053218665), CompanyStock(name='Pearson, Collier and Butler', symbol='CLE', open=497.66881807189475, high=565.8540896354566, low=377.56769619902474, close=520.8143081073216), CompanyStock(name='Drake, Gallagher and Mcdaniel', symbol='NRR', open=107.50703819728301, high=127.63293577660201, low=75.49645753449347, close=81.94764784293818), CompanyStock(name='Davis, Rogers and Miller', symbol='GMR', open=264.9488142671014, high=311.2943903515751, low=191.8711602815677, close=259.94529311955694), CompanyStock(name='Shelton-Williamson', symbol='INL', open=69.05437964798871, high=82.10920004420221, low=50.11272859011772, close=82.10920004420221), CompanyStock(name='Hill-Alexander', symbol='AND', open=122.05001336367727, high=143.99833325845177, low=85.98113999086206, close=92.49407083445729), CompanyStock(name='Campos, Wilson and Smith', symbol='LWT', open=161.60604283273295, high=171.657685600811, low=122.92505153923067, close=136.18588992575135), CompanyStock(name='Griffin, Ford and Hudson', symbol='NID', open=484.51683872803557, high=579.6843451062058, low=346.62448065721554, close=438.4727887745336), CompanyStock(name='Roberts-Turner', symbol='BTR', open=439.7609011092541, high=527.397158653876, low=318.5177006085685, close=436.7870532880785), CompanyStock(name='Dunn, Smith and Santiago', symbol='MIN', open=191.67332950174762, high=218.78576855833938, low=146.4139338746798, close=216.13146001943147), CompanyStock(name='Johnson Group', symbol='OOO', open=332.02997983141626, high=392.5305622926638, low=251.54621414139245, close=387.5494873101737), CompanyStock(name='Campbell, Brown and Wilkerson', symbol='LRP', open=200.5521710681452, high=239.55107982388873, low=143.1917487390985, close=194.21580724099402), CompanyStock(name='Hughes-Porter', symbol='PHH', open=227.78082252364885, high=254.6655148955828, low=163.29548707552217, close=201.88711911943022), CompanyStock(name='Hays, Cain and Schroeder', symbol=',IH', open=232.7664615850607, high=275.31062548452775, low=173.0663662787526, close=217.61029820916403), CompanyStock(name='Jenkins-Reid', symbol='NIK', open=317.3490374215484, high=366.41471670783983, low=231.57910656756442, close=338.2905489791903), CompanyStock(name='Wilson-Ayers', symbol='EOA', open=32.509912022923615, high=38.929304628892446, low=23.484709170994396, close=24.154002067089134), CompanyStock(name='White PLC', symbol='CIC', open=251.8800617526214, high=294.2351187200892, low=191.06317504866695, close=283.2644287289425), CompanyStock(name='Garcia, Serrano and Martinez', symbol='R,R', open=265.17799906450284, high=314.56915240787873, low=190.0202618972845, close=190.0202618972845), CompanyStock(name='Kelly LLC', symbol='YKL', open=125.48483336312044, high=147.80287115653869, low=88.46384098818028, close=137.87257393538766), CompanyStock(name='Reid Ltd', symbol='TDT', open=395.1231369850066, high=459.65978938656247, low=283.1048987367042, close=303.8608133886957), CompanyStock(name='Franklin, Brown and Thomas', symbol='AKH', open=203.48014425323572, high=214.50262877921034, low=148.920082973872, close=148.920082973872), CompanyStock(name='Gonzalez Ltd', symbol='NGT', open=44.74156458964584, high=50.23187343229222, low=36.751502510828416, close=43.21610162541849), CompanyStock(name='Russell Ltd', symbol='ERE', open=109.25337838710671, high=126.52048283314794, low=83.6933754306914, close=85.06431807218338), CompanyStock(name='Thomas-Harris', symbol='HRA', open=81.69687373298908, high=89.67722575319587, low=57.203204600915555, close=89.67722575319587), CompanyStock(name='Davis-Brown', symbol='RSW', open=413.851693775176, high=489.68930883514463, low=290.72703820489136, close=298.32150753832974), CompanyStock(name='Mccarthy-Nunez', symbol='TNT', open=469.87416936062897, high=559.5675343358146, low=330.3611346350429, close=344.1128523673031), CompanyStock(name='Bowman, Rios and Morris', symbol='M,R', open=377.160808221551, high=403.4461426133337, low=274.9945753923683, close=403.4461426133337), CompanyStock(name='Jackson, Burke and Peterson', symbol='BOA', open=392.7741051720802, high=462.75820109020964, low=278.94180702311064, close=278.94180702311064), CompanyStock(name='Jensen and Sons', symbol='OSO', open=240.34109915367353, high=284.65273331347555, low=181.14230704463827, close=284.65273331347555), CompanyStock(name='Fox-Gallagher', symbol='OLL', open=420.57628315255164, high=481.87733488777025, low=335.11618192502516, close=476.1660758123633), CompanyStock(name='Jordan Group', symbol='JNJ', open=444.1258826087357, high=528.95666946001, low=320.6365502794398, close=451.28508632985046), CompanyStock(name='Benton Inc', symbol='NEN', open=119.76462539190568, high=138.39679627545937, low=84.18258268863464, close=138.12274138737843), CompanyStock(name='Nguyen Inc', symbol='NGI', open=192.7769332037737, high=230.66537569901453, low=135.76801281060747, close=189.3877811013748), CompanyStock(name='Butler PLC', symbol='TER', open=392.2891567571703, high=469.41880403272023, low=275.9216464465113, close=275.9216464465113), CompanyStock(name='Wilson, Nelson and Johnson', symbol='NAN', open=65.08629941337388, high=76.87889792728112, low=46.87553467778974, close=52.764356043953455), CompanyStock(name='Olsen, Chen and Griffin', symbol='SNS', open=481.6272325220751, high=577.8533915591728, low=347.8669785241054, close=425.424131825545), CompanyStock(name='Harrison Ltd', symbol='HSA', open=178.59359665540123, high=213.74236944123876, low=141.20582640548264, close=180.58366988529923), CompanyStock(name='Barry, Jenkins and Nunez', symbol='AII', open=296.07164513620415, high=354.4692236830915, low=209.12795323034734, close=210.48910791651812), CompanyStock(name='Brown-Frazier', symbol='EZE', open=101.29861660452451, high=114.77403104005884, low=72.77830039736546, close=106.81141613595118), CompanyStock(name='Harris, Jones and Wilson', symbol='NHA', open=189.48844846295393, high=216.2973659231907, low=135.20655589029948, close=141.41343031753462), CompanyStock(name='Black-Smith', symbol='TCS', open=77.30572243599926, high=90.0820917839409, low=57.29129919970279, close=58.15748909985932), CompanyStock(name='Williams-Martin', symbol='NMA', open=227.10694612825964, high=267.57507721165337, low=181.28651086644714, close=230.67921903889683), CompanyStock(name='Cole, Davis and Herman', symbol='VHA', open=414.75554165263566, high=493.85191207916733, low=322.5581655187192, close=493.85191207916733), CompanyStock(name='Morgan PLC', symbol='MLC', open=149.6503466457333, high=176.69705850062147, low=111.51169486966273, close=125.20165614168035), CompanyStock(name='Collins-Mccoy', symbol='OCI', open=304.87417044727016, high=333.89003334015524, low=217.25198342448874, close=324.0302199147681), CompanyStock(name='Dudley-Blair', symbol='DYL', open=47.55040310269338, high=56.57724509470382, low=38.230677110215325, close=38.230677110215325), CompanyStock(name='Stephens and Sons', symbol='HSE', open=428.0156313495595, high=492.5882408732314, low=304.4228249297275, close=339.343701206542), CompanyStock(name='Sims Ltd', symbol='LTL', open=270.9477542532384, high=319.3704062361163, low=202.30362781258398, close=227.34873781921223), CompanyStock(name='Freeman, Burns and Rodriguez', symbol='UOR', open=82.82313251517003, high=91.79582047554209, low=63.15229058573012, close=91.57257458258657), CompanyStock(name='Wolfe-Hanson', symbol='HFW', open=495.1076768372316, high=542.8933817617168, low=348.8116383360476, close=402.71678686379664), CompanyStock(name='Adams Ltd', symbol='LTT', open=251.49319405541587, high=289.5521135615697, low=179.40625937925483, close=241.56429039685258), CompanyStock(name='Phillips-Preston', symbol='TEH', open=115.07116038501402, high=134.61155019389338, low=81.59361977356392, close=126.06659612158069), CompanyStock(name='Morrow, Moore and Price', symbol='POR', open=466.92268372084396, high=543.3851661073104, low=344.73418376463, close=459.8415602390049), CompanyStock(name='Jimenez LLC', symbol='LMN', open=350.84437974197635, high=404.33700464342814, low=248.19363552973022, close=275.72344893230394), CompanyStock(name='Washington LLC', symbol='GNO', open=53.30172493033302, high=63.92960929254499, low=49.48400666417113, close=56.83020098086418), CompanyStock(name='Gibson, James and Reed', symbol='NSG', open=234.73776681949283, high=276.82384758722736, low=166.4581056082044, close=207.3741040947476), CompanyStock(name='Munoz-Bates', symbol='BEZ', open=454.43935202072146, high=517.8843402989127, low=341.71756426321116, close=347.9707277652494), CompanyStock(name='Graham and Sons', symbol='ASR', open=257.6536855606192, high=302.33194352799444, low=184.36865358020498, close=302.33194352799444), CompanyStock(name='Villarreal and Sons', symbol='ALS', open=308.81074149510533, high=341.11729896570995, low=222.32716097884347, close=317.1516206346318), CompanyStock(name='Nguyen, Walls and Clark', symbol='RLS', open=108.59914782019953, high=130.19622480396632, low=82.83201411179076, close=109.23510758397374), CompanyStock(name='Yates-Robinson', symbol='TOI', open=83.16750255525771, high=90.20018033933835, low=59.9541557433871, close=89.73358345169504), CompanyStock(name='Perry and Sons', symbol='SOR', open=182.21446341568378, high=215.29359226621025, low=131.11451305265473, close=141.60944376418868), CompanyStock(name='Fleming Inc', symbol='CGI', open=278.7817110630127, high=324.45155629958583, low=203.35034889063533, close=297.2125957402104), CompanyStock(name='Kim LLC', symbol='CKL', open=386.9672825163226, high=419.64464314010985, low=272.2635011106898, close=272.2635011106898), CompanyStock(name='Hall-Peterson', symbol='LRE', open=351.152188621097, high=415.06944277357906, low=272.07251682910754, close=282.588887677271), CompanyStock(name='Mills-Doyle', symbol='LLS', open=390.539302177085, high=462.62982202862645, low=287.4639894531424, close=429.6156700880066), CompanyStock(name='Knight Inc', symbol='GHG', open=221.06033143589943, high=261.8755094062755, low=180.37564104778593, close=261.8755094062755), CompanyStock(name='Wilkinson Ltd', symbol='TIK', open=202.09137620450315, high=241.78096584553768, low=148.1409006894875, close=201.2433780884651), CompanyStock(name='Ramsey Inc', symbol='AEI', open=133.04645998965412, high=156.9437980584742, low=93.49619415540003, close=153.36766311443245), CompanyStock(name='Marshall, Lee and Ashley', symbol='DNA', open=96.1430775537781, high=111.9106357601009, low=75.16388041411733, close=96.96224669289221), CompanyStock(name='Rose, Reese and Boyer', symbol='ODE', open=192.532943076072, high=213.87761340266368, low=139.61501894178457, close=157.08726072852372), CompanyStock(name='Mcdaniel-Diaz', symbol='IDI', open=262.1456291946976, high=291.90819016147486, low=191.32870411736135, close=235.84249807216077), CompanyStock(name='Allen-Mullen', symbol='ELM', open=385.5159408169059, high=456.2126256658308, low=331.3034886432135, close=397.56805903260596), CompanyStock(name='Mcgee, Mckenzie and Barton', symbol='ECK', open=400.52814380805705, high=471.43279570597133, low=298.4403512307414, close=302.12629586602225), CompanyStock(name='Cooper and Sons', symbol='PDA', open=459.8793998366394, high=534.8186545259181, low=322.23521840830796, close=391.0092443592063), CompanyStock(name='Kim-Kline', symbol='ILK', open=462.429960046233, high=545.8950431096188, low=328.44779627494523, close=340.5825618984817), CompanyStock(name='Hood-Hull', symbol='OHO', open=167.0747078015968, high=191.77247917637897, low=119.10358288071554, close=139.80153341510905), CompanyStock(name='Miller, Leach and Anderson', symbol='ODR', open=482.43452094353336, high=560.6173870612663, low=341.7822621872617, close=493.31630749397215), CompanyStock(name='English PLC', symbol='SGL', open=171.10319594572462, high=199.95950797685578, low=119.82731848113657, close=142.39571583961276), CompanyStock(name='Adkins-West', symbol='EIT', open=135.36359466950685, high=158.81480781580947, low=98.39317053077964, close=129.77059007389678), CompanyStock(name='Keller Group', symbol='RGK', open=442.5732078403814, high=530.0457670857977, low=323.9477592991941, close=357.57340955996807), CompanyStock(name='Lewis, Knight and Carter', symbol='HII', open=405.60375682977093, high=485.1635711710094, low=299.2083077741457, close=372.1133093663417), CompanyStock(name='Jackson-Henry', symbol='NNO', open=378.21163910745145, high=433.8599986852032, low=290.75618261275906, close=433.8599986852032), CompanyStock(name='Torres-Williams', symbol='WAW', open=258.76388923775994, high=296.1609247965078, low=193.35790914894875, close=281.15904855300533), CompanyStock(name='Bush PLC', symbol='HCL', open=388.4608266801125, high=464.64681971451483, low=285.60314219490914, close=294.22850608637896), CompanyStock(name='Nichols Ltd', symbol='DHD', open=455.9212594523611, high=545.1106850101012, low=346.0925443274375, close=377.3003237086811), CompanyStock(name='Snyder PLC', symbol='PEP', open=259.74522256366015, high=291.9146630518934, low=194.541364541687, close=249.57802654072776), CompanyStock(name='Hawkins Group', symbol='OWH', open=113.50432699853786, high=135.97960424633789, low=80.1126216387077, close=121.85345050219797), CompanyStock(name='Bennett-Allen', symbol='NBN', open=375.1774873993305, high=437.6173707920824, low=268.8696448826207, close=294.58668312016323), CompanyStock(name='Bass, Pham and Gonzales', symbol='BHA', open=468.57989432375996, high=550.0570703976795, low=345.87706647805527, close=550.0570703976795), CompanyStock(name='Rivera, Boyd and Wilkinson', symbol='OVN', open=301.8439874311802, high=336.5940547907499, low=212.22533349523783, close=227.7321190144407), CompanyStock(name='Fisher-Jones', symbol='NHO', open=172.99301132320062, high=202.75916171477834, low=130.3796202054206, close=144.77929819355091), CompanyStock(name='Weaver PLC', symbol='EPE', open=472.82106050282334, high=554.2050791759477, low=344.4700556663604, close=554.2050791759477), CompanyStock(name='Rodriguez, Summers and Mclaughlin', symbol='CRA', open=173.09938681737083, high=206.89265968084555, low=123.64599765617982, close=194.90618391028116), CompanyStock(name='Smith, Soto and Hernandez', symbol='SHR', open=245.6584568264204, high=291.0157521397628, low=174.86882339543413, close=291.0157521397628), CompanyStock(name='Wright-Ramsey', symbol='EGM', open=32.67261502536742, high=38.10372810400829, low=24.31688274986122, close=35.49431848076884), CompanyStock(name='Johnson LLC', symbol='HSC', open=332.2316001819375, high=385.6044947477068, low=236.5263034621944, close=260.04704762881954), CompanyStock(name='Henderson, Gibson and Jackson', symbol='RDK', open=431.52973422054544, high=510.4112096416187, low=318.66005475008546, close=318.66005475008546)]\n",
            "ImpInfo(most_frequent_blood_type='O+', highest_age=115, avg_age=57.925, location_mean=-0.43782379735000004)\n",
            "{'most_frequent_blood_type': 'O+', 'highest_age': 115, 'avg_age': 57.6412, 'location_mean': Decimal('-0.0105013006')}\n"
          ],
          "name": "stdout"
        }
      ]
    }
  ]
}